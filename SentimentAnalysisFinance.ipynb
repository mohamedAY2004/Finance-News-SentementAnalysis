{
 "nbformat": 4,
 "nbformat_minor": 0,
 "metadata": {
  "colab": {
   "provenance": [],
   "gpuType": "T4"
  },
  "kernelspec": {
   "name": "python3",
   "display_name": "Python 3"
  },
  "language_info": {
   "name": "python"
  },
  "accelerator": "GPU"
 },
 "cells": [
  {
   "cell_type": "code",
   "execution_count": 1,
   "metadata": {
    "id": "bNepuETTF5N7"
   },
   "outputs": [],
   "source": [
    "from transformers import AutoTokenizer, AutoModel\n",
    "from sklearn.feature_extraction.text import TfidfVectorizer\n",
    "import torch\n",
    "import numpy as np\n",
    "import pandas as pd\n",
    "from sklearn.model_selection import train_test_split\n",
    "from sklearn.linear_model import LogisticRegression\n",
    "from sklearn.svm import SVC\n",
    "from sklearn.metrics import accuracy_score, classification_report"
   ]
  },
  {
   "cell_type": "code",
   "source": [
    "import pandas as pd\n",
    "df = pd.read_csv('all-data.csv', encoding='latin1')\n",
    "print(df.shape)\n",
    "print(df.head())\n"
   ],
   "metadata": {
    "colab": {
     "base_uri": "https://localhost:8080/"
    },
    "id": "iz0KZjPHGPtY",
    "outputId": "c87c4e06-56e4-4147-d5e5-50011889055e"
   },
   "execution_count": 2,
   "outputs": [
    {
     "output_type": "stream",
     "name": "stdout",
     "text": [
      "(4846, 2)\n",
      "      label                                               text\n",
      "0   neutral  According to Gran , the company has no plans t...\n",
      "1   neutral  Technopolis plans to develop in stages an area...\n",
      "2  negative  The international electronic industry company ...\n",
      "3  positive  With the new production plant the company woul...\n",
      "4  positive  According to the company 's updated strategy f...\n"
     ]
    }
   ]
  },
  {
   "cell_type": "code",
   "source": [
    "df.isna().sum()"
   ],
   "metadata": {
    "colab": {
     "base_uri": "https://localhost:8080/",
     "height": 147
    },
    "id": "RGdEkZGJLGDz",
    "outputId": "4482483f-0517-4a5b-b6fe-fdec8ff32ec8"
   },
   "execution_count": 3,
   "outputs": [
    {
     "output_type": "execute_result",
     "data": {
      "text/plain": [
       "label    0\n",
       "text     0\n",
       "dtype: int64"
      ],
      "text/html": [
       "<div>\n",
       "<style scoped>\n",
       "    .dataframe tbody tr th:only-of-type {\n",
       "        vertical-align: middle;\n",
       "    }\n",
       "\n",
       "    .dataframe tbody tr th {\n",
       "        vertical-align: top;\n",
       "    }\n",
       "\n",
       "    .dataframe thead th {\n",
       "        text-align: right;\n",
       "    }\n",
       "</style>\n",
       "<table border=\"1\" class=\"dataframe\">\n",
       "  <thead>\n",
       "    <tr style=\"text-align: right;\">\n",
       "      <th></th>\n",
       "      <th>0</th>\n",
       "    </tr>\n",
       "  </thead>\n",
       "  <tbody>\n",
       "    <tr>\n",
       "      <th>label</th>\n",
       "      <td>0</td>\n",
       "    </tr>\n",
       "    <tr>\n",
       "      <th>text</th>\n",
       "      <td>0</td>\n",
       "    </tr>\n",
       "  </tbody>\n",
       "</table>\n",
       "</div><br><label><b>dtype:</b> int64</label>"
      ]
     },
     "metadata": {},
     "execution_count": 3
    }
   ]
  },
  {
   "cell_type": "code",
   "source": [
    "print(\"Classes:\", df['label'].unique())"
   ],
   "metadata": {
    "colab": {
     "base_uri": "https://localhost:8080/"
    },
    "id": "zz2oDQ7FI7Df",
    "outputId": "8a253207-63b0-418c-d8e5-bf87c5ad2b2b"
   },
   "execution_count": 4,
   "outputs": [
    {
     "output_type": "stream",
     "name": "stdout",
     "text": [
      "Classes: ['neutral' 'negative' 'positive']\n"
     ]
    }
   ]
  },
  {
   "cell_type": "code",
   "source": [
    "df['label'].value_counts()"
   ],
   "metadata": {
    "colab": {
     "base_uri": "https://localhost:8080/",
     "height": 209
    },
    "id": "fNIQ_rT1IUzP",
    "outputId": "7d049847-5293-40a3-ded1-7e7839130e45"
   },
   "execution_count": 5,
   "outputs": [
    {
     "output_type": "execute_result",
     "data": {
      "text/plain": [
       "label\n",
       "neutral     2879\n",
       "positive    1363\n",
       "negative     604\n",
       "Name: count, dtype: int64"
      ],
      "text/html": [
       "<div>\n",
       "<style scoped>\n",
       "    .dataframe tbody tr th:only-of-type {\n",
       "        vertical-align: middle;\n",
       "    }\n",
       "\n",
       "    .dataframe tbody tr th {\n",
       "        vertical-align: top;\n",
       "    }\n",
       "\n",
       "    .dataframe thead th {\n",
       "        text-align: right;\n",
       "    }\n",
       "</style>\n",
       "<table border=\"1\" class=\"dataframe\">\n",
       "  <thead>\n",
       "    <tr style=\"text-align: right;\">\n",
       "      <th></th>\n",
       "      <th>count</th>\n",
       "    </tr>\n",
       "    <tr>\n",
       "      <th>label</th>\n",
       "      <th></th>\n",
       "    </tr>\n",
       "  </thead>\n",
       "  <tbody>\n",
       "    <tr>\n",
       "      <th>neutral</th>\n",
       "      <td>2879</td>\n",
       "    </tr>\n",
       "    <tr>\n",
       "      <th>positive</th>\n",
       "      <td>1363</td>\n",
       "    </tr>\n",
       "    <tr>\n",
       "      <th>negative</th>\n",
       "      <td>604</td>\n",
       "    </tr>\n",
       "  </tbody>\n",
       "</table>\n",
       "</div><br><label><b>dtype:</b> int64</label>"
      ]
     },
     "metadata": {},
     "execution_count": 5
    }
   ]
  },
  {
   "cell_type": "code",
   "source": [
    "df = df.dropna(subset=[\"text\"])\n",
    "df = df[df[\"text\"].str.strip() != \"\"]  # remove empty strings\n",
    "texts = df['text'].values\n",
    "labels = df['label'].astype('category').cat.codes.values\n",
    "categories = df['label'].astype('category').cat.categories\n",
    "\n",
    "# Split the dataset\n",
    "X_train_texts, X_test_texts, y_train, y_test = train_test_split(\n",
    "    texts, labels, test_size=0.2, random_state=42, stratify=labels\n",
    ")\n"
   ],
   "metadata": {
    "id": "f06tsBVURQ4t"
   },
   "execution_count": 6,
   "outputs": []
  },
  {
   "cell_type": "markdown",
   "source": [
    "# **Pipeline A: TF-IDF + Classifier (Baseline)**"
   ],
   "metadata": {
    "id": "ctMsr6vvV1RN"
   }
  },
  {
   "cell_type": "code",
   "source": [
    "vectorizer = TfidfVectorizer(\n",
    "    max_features=5000,   # limit to top 5000 words (prevents overfitting)\n",
    "    ngram_range=(1, 2),  # include unigrams + bigrams\n",
    "    stop_words='english' # remove common English words\n",
    ")\n",
    "X_train = vectorizer.fit_transform(X_train_texts)\n",
    "X_test = vectorizer.transform(X_test_texts)\n",
    "clf = LogisticRegression(max_iter=2000,class_weight=\"balanced\")\n",
    "clf.fit(X_train, y_train)\n",
    "y_predA = clf.predict(X_test)\n",
    "acc = accuracy_score(y_test, y_predA)\n",
    "print(\"Accuracy:\", acc)\n",
    "print(\"\\nClassification Report:\\n\", classification_report(y_test, y_predA, target_names=categories))\n"
   ],
   "metadata": {
    "colab": {
     "base_uri": "https://localhost:8080/"
    },
    "id": "tyaP5FxARWd3",
    "outputId": "05e34c9a-e11c-4dbc-8791-c7e9a18fb24b"
   },
   "execution_count": 7,
   "outputs": [
    {
     "output_type": "stream",
     "name": "stdout",
     "text": [
      "Accuracy: 0.7134020618556701\n",
      "\n",
      "Classification Report:\n",
      "               precision    recall  f1-score   support\n",
      "\n",
      "    negative       0.55      0.69      0.61       121\n",
      "     neutral       0.80      0.78      0.79       576\n",
      "    positive       0.62      0.59      0.60       273\n",
      "\n",
      "    accuracy                           0.71       970\n",
      "   macro avg       0.66      0.68      0.67       970\n",
      "weighted avg       0.72      0.71      0.72       970\n",
      "\n"
     ]
    }
   ]
  },
  {
   "cell_type": "markdown",
   "source": [
    "# **Pipeline B: Word2Vec + Classifier (Semantic Baseline)**"
   ],
   "metadata": {
    "id": "fL612o81XrHt"
   }
  },
  {
   "cell_type": "code",
   "source": [
    "!pip install gensim"
   ],
   "metadata": {
    "colab": {
     "base_uri": "https://localhost:8080/"
    },
    "id": "0xOoZRBugmoC",
    "outputId": "0344cabc-7acd-49a3-9b46-c267e4ae7dfb"
   },
   "execution_count": 8,
   "outputs": [
    {
     "output_type": "stream",
     "name": "stdout",
     "text": [
      "Collecting gensim\n",
      "  Downloading gensim-4.4.0-cp312-cp312-manylinux_2_24_x86_64.manylinux_2_28_x86_64.whl.metadata (8.4 kB)\n",
      "Requirement already satisfied: numpy>=1.18.5 in /usr/local/lib/python3.12/dist-packages (from gensim) (2.0.2)\n",
      "Requirement already satisfied: scipy>=1.7.0 in /usr/local/lib/python3.12/dist-packages (from gensim) (1.16.3)\n",
      "Requirement already satisfied: smart_open>=1.8.1 in /usr/local/lib/python3.12/dist-packages (from gensim) (7.4.1)\n",
      "Requirement already satisfied: wrapt in /usr/local/lib/python3.12/dist-packages (from smart_open>=1.8.1->gensim) (2.0.0)\n",
      "Downloading gensim-4.4.0-cp312-cp312-manylinux_2_24_x86_64.manylinux_2_28_x86_64.whl (27.9 MB)\n",
      "\u001b[2K   \u001b[90m━━━━━━━━━━━━━━━━━━━━━━━━━━━━━━━━━━━━━━━━\u001b[0m \u001b[32m27.9/27.9 MB\u001b[0m \u001b[31m98.4 MB/s\u001b[0m eta \u001b[36m0:00:00\u001b[0m\n",
      "\u001b[?25hInstalling collected packages: gensim\n",
      "Successfully installed gensim-4.4.0\n"
     ]
    }
   ]
  },
  {
   "cell_type": "code",
   "source": [
    "# Very Bad because it doesn't know that a single word change full sentence meaning like \"not\" and OOV problem that it doesn't know what to do with it\n",
    "import warnings\n",
    "warnings.filterwarnings(\"ignore\")\n",
    "\n",
    "import nltk\n",
    "nltk.download(\"punkt\", quiet=True)\n",
    "nltk.download(\"punkt_tab\", quiet=True)\n",
    "from gensim.models import Word2Vec\n",
    "from gensim.utils import simple_preprocess\n",
    "from nltk.tokenize import word_tokenize\n",
    "import numpy as np\n",
    "from tqdm import tqdm\n",
    "\n",
    "# simple_preprocess handles lowercasing and basic cleaning\n",
    "sentences = [simple_preprocess(str(text)) for text in X_train_texts]\n",
    "import multiprocessing\n",
    "num_cores = multiprocessing.cpu_count()\n",
    "#Embedding model\n",
    "w2v_model = Word2Vec(\n",
    "    vector_size=300,\n",
    "    window=5,\n",
    "    min_count=2,\n",
    "    sg=1,\n",
    "    workers=num_cores\n",
    ")\n",
    "\n",
    "w2v_model.build_vocab(sentences)\n",
    "w2v_model.train(\n",
    "    corpus_iterable=sentences,\n",
    "    total_examples=w2v_model.corpus_count,\n",
    "    epochs=200\n",
    ")\n",
    "\n",
    "def get_w2v_embedding(text, model, vector_size=300):\n",
    "    \"\"\"Return averaged Word2Vec embedding for a given text.\"\"\"\n",
    "    words = word_tokenize(text.lower())\n",
    "    valid_words = [w for w in words if w in model.wv]\n",
    "    if not valid_words:\n",
    "        return np.zeros(vector_size)\n",
    "    return np.mean(model.wv[valid_words], axis=0)\n"
   ],
   "metadata": {
    "id": "utroUN2NXvx_"
   },
   "execution_count": 22,
   "outputs": []
  },
  {
   "cell_type": "code",
   "source": [
    "print(len(sentences))           # should match df rows\n",
    "print(sum(len(s) for s in sentences))  # total number of tokens; must be > 0\n"
   ],
   "metadata": {
    "colab": {
     "base_uri": "https://localhost:8080/"
    },
    "id": "HcJBv7ZNcr7I",
    "outputId": "26e03bcb-f2e1-44f8-b726-f71dffe494b8"
   },
   "execution_count": 23,
   "outputs": [
    {
     "output_type": "stream",
     "name": "stdout",
     "text": [
      "3876\n",
      "72905\n"
     ]
    }
   ]
  },
  {
   "cell_type": "code",
   "source": [
    "print(\"Vocabulary size:\", len(w2v_model.wv))\n",
    "print(\"Example vector:\", w2v_model.wv['company'][:10])\n"
   ],
   "metadata": {
    "colab": {
     "base_uri": "https://localhost:8080/"
    },
    "id": "yqNWKmFwc0ND",
    "outputId": "602ea5ec-810d-4142-b80e-b525ffc9bb10"
   },
   "execution_count": 24,
   "outputs": [
    {
     "output_type": "stream",
     "name": "stdout",
     "text": [
      "Vocabulary size: 3993\n",
      "Example vector: [-0.04053079  0.31520784 -0.00589024 -0.13436176  0.4305782  -0.12491975\n",
      "  0.14807606  0.14196618 -0.12280902  0.30536723]\n"
     ]
    }
   ]
  },
  {
   "cell_type": "code",
   "source": [
    "w2v_model.wv.most_similar('company', topn=5)\n"
   ],
   "metadata": {
    "colab": {
     "base_uri": "https://localhost:8080/"
    },
    "id": "wuegQ8_pdc8N",
    "outputId": "f4324a17-8afd-4063-e4e7-b9c95f38b4c6"
   },
   "execution_count": 25,
   "outputs": [
    {
     "output_type": "execute_result",
     "data": {
      "text/plain": [
       "[('rmr', 0.2700832486152649),\n",
       " ('nembv', 0.2550446093082428),\n",
       " ('bnamericas', 0.2525024712085724),\n",
       " ('yty', 0.24853850901126862),\n",
       " ('incur', 0.2389792501926422)]"
      ]
     },
     "metadata": {},
     "execution_count": 25
    }
   ]
  },
  {
   "cell_type": "code",
   "source": [
    "vec = get_w2v_embedding(\"the company is growing fast\", w2v_model)\n",
    "print(vec.shape)  # should be (300,)\n"
   ],
   "metadata": {
    "colab": {
     "base_uri": "https://localhost:8080/"
    },
    "id": "PLsipxSndjhf",
    "outputId": "edca4cdd-e097-4b94-b5a1-27057017e93c"
   },
   "execution_count": 26,
   "outputs": [
    {
     "output_type": "stream",
     "name": "stdout",
     "text": [
      "(300,)\n"
     ]
    }
   ]
  },
  {
   "cell_type": "code",
   "source": [
    "# Very Bad because it doesn't know that a single word change full sentence meaning like \"not\"\n",
    "X_train = np.vstack([get_w2v_embedding(t, w2v_model) for t in tqdm(X_train_texts)])\n",
    "X_test  = np.vstack([get_w2v_embedding(t, w2v_model) for t in tqdm(X_test_texts)])\n",
    "clf = LogisticRegression(max_iter=2000,class_weight=\"balanced\")\n",
    "clf.fit(X_train, y_train)\n",
    "y_predB = clf.predict(X_test)\n",
    "acc = accuracy_score(y_test, y_predB)\n",
    "print(\"Accuracy:\", acc)\n",
    "print(\"\\nClassification Report:\\n\", classification_report(y_test, y_predB, target_names=categories))"
   ],
   "metadata": {
    "colab": {
     "base_uri": "https://localhost:8080/"
    },
    "id": "86dNYKQtYY15",
    "outputId": "a43936dc-33eb-48aa-b34d-70ef04677673"
   },
   "execution_count": 27,
   "outputs": [
    {
     "output_type": "stream",
     "name": "stderr",
     "text": [
      "100%|██████████| 3876/3876 [00:01<00:00, 3853.96it/s]\n",
      "100%|██████████| 970/970 [00:00<00:00, 3847.89it/s]\n"
     ]
    },
    {
     "output_type": "stream",
     "name": "stdout",
     "text": [
      "Accuracy: 0.6690721649484536\n",
      "\n",
      "Classification Report:\n",
      "               precision    recall  f1-score   support\n",
      "\n",
      "    negative       0.47      0.70      0.56       121\n",
      "     neutral       0.83      0.68      0.74       576\n",
      "    positive       0.55      0.64      0.59       273\n",
      "\n",
      "    accuracy                           0.67       970\n",
      "   macro avg       0.61      0.67      0.63       970\n",
      "weighted avg       0.70      0.67      0.68       970\n",
      "\n"
     ]
    }
   ]
  },
  {
   "cell_type": "markdown",
   "source": [
    "# **Pipeline C: Pre-trained Transformer Embedder + Classifier**"
   ],
   "metadata": {
    "id": "3HHg7ARDWBdN"
   }
  },
  {
   "cell_type": "code",
   "source": [
    "from transformers import AutoTokenizer, AutoModel\n",
    "\n",
    "tokenizer = AutoTokenizer.from_pretrained(\"yiyanghkust/finbert-tone\")\n",
    "model = AutoModel.from_pretrained(\"yiyanghkust/finbert-tone\")"
   ],
   "metadata": {
    "colab": {
     "base_uri": "https://localhost:8080/",
     "height": 113,
     "referenced_widgets": [
      "96bee4e51eb54dda8f23d3b5e240e2b4",
      "ee79bc266d91422b91b55151ed140250",
      "5a1cf819510e445da56b93454f3b720c",
      "72ad11e3215741b8b5ed7950e3b7665f",
      "e845d07da9f34674b60f5e781edcd883",
      "ccca3c90cc22404aac700cb4e2d800d1",
      "cc47fa5134104c82bbeb6ff4315429d9",
      "d419a7a2ce654b30bebfe43fbb9804e5",
      "5ecee11501d04bb78b3e8beedaa03702",
      "9e40bb7d135d454ea9dcea02a5647fd8",
      "1c03b6007a084f5c97701efe59b7536a",
      "f6c791379f46449080295143b511a838",
      "c745693fb37c43b38723a62f0565db59",
      "b2ebf56716924001815f0c76adae8a26",
      "8bd4fcf797204acb85472b6a19c93021",
      "e1ffd346132c4e099858ff2c15121f42",
      "f4083fdafd20477c96a76b55184aa963",
      "d673373dbaf24a3983241b6123f99a27",
      "fb33e924c0ce4e37a7682a611e614712",
      "988d032ab62c460cb310193f6ffb7a45",
      "c24f333b77da4e0c9c304f3ea49fdedb",
      "af30d12056ce4df2b58314b631b73fe6",
      "e6d52d8a3fd14ffebae6a725d8608d00",
      "766ff6f45c654a908a801ca210813da9",
      "5d41d3b24bcf4f3fade75b8f6a7f63b3",
      "d8ee1ecae0784be4932887a9385006bd",
      "bb39fd8537e941afbf2873a4ee55ee23",
      "b40dabde668d436e8b8f992e8794ea0e",
      "8377ba25b1dc4155b507e6d8fc9c0baf",
      "c6338b38c9ab4d3b8d3f93254c718769",
      "e36c95d012a742818b973f72a3ebb912",
      "d16c7332e771426cb7ceeba66687e02a",
      "c8e8a6bf088b40b69b7db3bc30aaeb71"
     ]
    },
    "id": "ymVn0UMPI-gZ",
    "outputId": "0bbda66d-8c95-4e73-b0c0-1b3ac70753e8"
   },
   "execution_count": 15,
   "outputs": [
    {
     "output_type": "display_data",
     "data": {
      "text/plain": [
       "config.json:   0%|          | 0.00/533 [00:00<?, ?B/s]"
      ]
     },
     "metadata": {}
    },
    {
     "output_type": "display_data",
     "data": {
      "text/plain": [
       "vocab.txt: 0.00B [00:00, ?B/s]"
      ]
     },
     "metadata": {}
    },
    {
     "output_type": "display_data",
     "data": {
      "text/plain": [
       "pytorch_model.bin:   0%|          | 0.00/439M [00:00<?, ?B/s]"
      ]
     },
     "metadata": {}
    }
   ]
  },
  {
   "cell_type": "code",
   "source": [
    "texts = df['text'].values\n",
    "labels = df['label'].astype('category').cat.codes.values\n",
    "categories = df['label'].astype('category').cat.categories"
   ],
   "metadata": {
    "id": "uST8V0E4JBHG"
   },
   "execution_count": 16,
   "outputs": []
  },
  {
   "cell_type": "code",
   "source": [
    "from sklearn.model_selection import train_test_split\n",
    "\n",
    "X_train_texts, X_test_texts, y_train, y_test = train_test_split(\n",
    "    texts, labels, test_size=0.2, random_state=42, stratify=labels)"
   ],
   "metadata": {
    "id": "GYlGuVbcJIFd"
   },
   "execution_count": 17,
   "outputs": []
  },
  {
   "cell_type": "code",
   "source": [
    "import torch\n",
    "import numpy as np\n",
    "from tqdm import tqdm\n",
    "import pandas as pd\n",
    "\n",
    "def clean_texts(texts):\n",
    "    \"\"\"\n",
    "    Ensures all items are strings and removes NaNs or None.\n",
    "    \"\"\"\n",
    "    # Convert to pandas Series for easy cleaning\n",
    "    s = pd.Series(texts).dropna().astype(str)\n",
    "    return s.tolist()\n",
    "\n",
    "def get_embeddings_batch(texts, batch_size=16, pooling=\"cls\", max_length=256):\n",
    "    texts = clean_texts(texts)\n",
    "    all_embeddings = []\n",
    "\n",
    "    if torch.cuda.is_available():\n",
    "        model.to(\"cuda\")\n",
    "\n",
    "    for i in tqdm(range(0, len(texts), batch_size)):\n",
    "        batch_texts = texts[i:i + batch_size]\n",
    "        inputs = tokenizer(\n",
    "            batch_texts,\n",
    "            return_tensors=\"pt\",\n",
    "            truncation=True,\n",
    "            padding=True,\n",
    "            max_length=max_length\n",
    "        )\n",
    "\n",
    "        if torch.cuda.is_available():\n",
    "            inputs = {k: v.to(\"cuda\") for k, v in inputs.items()}\n",
    "\n",
    "        with torch.no_grad():\n",
    "            outputs = model(**inputs)\n",
    "            if pooling == \"mean\":\n",
    "                batch_embeddings = outputs.last_hidden_state.mean(dim=1).cpu().numpy()\n",
    "            else:\n",
    "                batch_embeddings = outputs.last_hidden_state[:, 0, :].cpu().numpy()\n",
    "\n",
    "        all_embeddings.append(batch_embeddings)\n",
    "\n",
    "    return np.vstack(all_embeddings)\n"
   ],
   "metadata": {
    "id": "vaet75vuJLWT"
   },
   "execution_count": 18,
   "outputs": []
  },
  {
   "cell_type": "code",
   "source": [
    "# Using CLS token embedding\n",
    "X_train = get_embeddings_batch(X_train_texts, batch_size=64)\n",
    "X_test = get_embeddings_batch(X_test_texts, batch_size=64)\n",
    "clf = LogisticRegression(max_iter=2000,class_weight=\"balanced\")\n",
    "clf.fit(X_train, y_train)\n",
    "y_pred = clf.predict(X_test)\n",
    "acc = accuracy_score(y_test, y_pred)\n",
    "print(\"Accuracy:\", acc)\n",
    "print(\"\\nClassification Report:\\n\", classification_report(y_test, y_pred, target_names=categories))"
   ],
   "metadata": {
    "colab": {
     "base_uri": "https://localhost:8080/",
     "height": 327,
     "referenced_widgets": [
      "b65140a120ae4cafb7a0e51690e67cb6",
      "961d682d4d1b4eeb87a1e5ac65cc52a1",
      "e81725931fed4aa9b30354ab785073f4",
      "6f2bdde869a34b5893ae0449db86cb5f",
      "8ed39675d5a0417faeb93fca2452f37f",
      "0ef4aae0a0b8415eb9409b6411ae1568",
      "50c7049544544000bb1c47a4b6b89274",
      "28fdd4015853492ab834114a7f8c9b10",
      "90bd0b8a7f6c48afb7f25820c3df4593",
      "5e39d40234284f2ab6e52801dde587f7",
      "1b12fc86e5534c328d55ad7fe62ce69d"
     ]
    },
    "id": "FlR7GkQHJStf",
    "outputId": "d97e0977-4bc6-49e0-b479-7d02a11a88d4"
   },
   "execution_count": 19,
   "outputs": [
    {
     "output_type": "stream",
     "name": "stderr",
     "text": [
      "\r  0%|          | 0/61 [00:00<?, ?it/s]"
     ]
    },
    {
     "output_type": "display_data",
     "data": {
      "text/plain": [
       "model.safetensors:   0%|          | 0.00/439M [00:00<?, ?B/s]"
      ]
     },
     "metadata": {}
    },
    {
     "output_type": "stream",
     "name": "stderr",
     "text": [
      "100%|██████████| 61/61 [00:15<00:00,  3.86it/s]\n",
      "100%|██████████| 16/16 [00:03<00:00,  4.40it/s]\n"
     ]
    },
    {
     "output_type": "stream",
     "name": "stdout",
     "text": [
      "Accuracy: 0.7793814432989691\n",
      "\n",
      "Classification Report:\n",
      "               precision    recall  f1-score   support\n",
      "\n",
      "    negative       0.71      0.80      0.75       121\n",
      "     neutral       0.84      0.80      0.82       576\n",
      "    positive       0.69      0.72      0.70       273\n",
      "\n",
      "    accuracy                           0.78       970\n",
      "   macro avg       0.75      0.78      0.76       970\n",
      "weighted avg       0.78      0.78      0.78       970\n",
      "\n"
     ]
    }
   ]
  },
  {
   "cell_type": "code",
   "source": [
    "# Using mean pooling embedding\n",
    "X_train = get_embeddings_batch(X_train_texts, batch_size=64,pooling=\"mean\")\n",
    "X_test = get_embeddings_batch(X_test_texts, batch_size=64,pooling=\"mean\")\n",
    "clf = LogisticRegression(max_iter=2000,class_weight=\"balanced\")\n",
    "clf.fit(X_train, y_train)\n",
    "y_predC = clf.predict(X_test)\n",
    "acc = accuracy_score(y_test, y_predC)\n",
    "print(\"Accuracy:\", acc)\n",
    "print(\"\\nClassification Report:\\n\", classification_report(y_test, y_pred, target_names=categories))"
   ],
   "metadata": {
    "colab": {
     "base_uri": "https://localhost:8080/"
    },
    "id": "lLCKLzxZU1qc",
    "outputId": "ca12e671-c6ac-48ed-bee7-382b78f90bbc"
   },
   "execution_count": 20,
   "outputs": [
    {
     "output_type": "stream",
     "name": "stderr",
     "text": [
      "100%|██████████| 61/61 [00:15<00:00,  3.90it/s]\n",
      "100%|██████████| 16/16 [00:03<00:00,  4.36it/s]\n"
     ]
    },
    {
     "output_type": "stream",
     "name": "stdout",
     "text": [
      "Accuracy: 0.7845360824742268\n",
      "\n",
      "Classification Report:\n",
      "               precision    recall  f1-score   support\n",
      "\n",
      "    negative       0.71      0.80      0.75       121\n",
      "     neutral       0.84      0.80      0.82       576\n",
      "    positive       0.69      0.72      0.70       273\n",
      "\n",
      "    accuracy                           0.78       970\n",
      "   macro avg       0.75      0.78      0.76       970\n",
      "weighted avg       0.78      0.78      0.78       970\n",
      "\n"
     ]
    }
   ]
  },
  {
   "cell_type": "code",
   "source": [
    "import matplotlib.pyplot as plt\n",
    "from sklearn.metrics import f1_score\n",
    "\n",
    "# Compute F1-scores\n",
    "f1_A = f1_score(y_test, y_predA, average='weighted')\n",
    "f1_B = f1_score(y_test, y_predB, average='weighted')\n",
    "f1_C = f1_score(y_test, y_predC, average='weighted')\n",
    "\n",
    "# Prepare data\n",
    "models = ['Model A (TF-IDF)', 'Model B (Word2Vec)', 'Model C (finance BERT)']\n",
    "f1_scores = [f1_A, f1_B, f1_C]\n",
    "\n",
    "# Plot\n",
    "plt.figure(figsize=(7, 5))\n",
    "bars = plt.bar(models, f1_scores)\n",
    "\n",
    "# Add values on top of bars\n",
    "for bar, score in zip(bars, f1_scores):\n",
    "    plt.text(bar.get_x() + bar.get_width()/2, bar.get_height() + 0.01,\n",
    "             f\"{score:.3f}\", ha='center', fontsize=10, weight='bold')\n",
    "\n",
    "plt.ylabel(\"F1 Score\")\n",
    "plt.title(\"F1-Score Comparison Across Models\")\n",
    "plt.ylim(0, 1)\n",
    "plt.show()\n"
   ],
   "metadata": {
    "colab": {
     "base_uri": "https://localhost:8080/",
     "height": 468
    },
    "id": "ZX3XfZGcfjG3",
    "outputId": "392d2d7c-8116-437b-9d40-fb38879adf00"
   },
   "execution_count": 28,
   "outputs": [
    {
     "output_type": "display_data",
     "data": {
      "text/plain": [
       "<Figure size 700x500 with 1 Axes>"
      ],
      "image/png": "[encoded data removed]"
     },
     "metadata": {}
    }
   ]
  }
 ]
}